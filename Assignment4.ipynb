{
 "cells": [
  {
   "cell_type": "markdown",
   "id": "49b1c24d",
   "metadata": {},
   "source": [
    "1.What exactly is []?"
   ]
  },
  {
   "cell_type": "markdown",
   "id": "c0cef3be",
   "metadata": {},
   "source": [
    "Ans. It is an empty list."
   ]
  },
  {
   "cell_type": "markdown",
   "id": "304cf042",
   "metadata": {},
   "source": [
    "2.In a list of values stored in a variable called spam, how would you assign the value &#39;hello&#39; as the\n",
    "third value? (Assume [2, 4, 6, 8, 10] are in spam.)"
   ]
  },
  {
   "cell_type": "code",
   "execution_count": 1,
   "id": "d6f11268",
   "metadata": {},
   "outputs": [],
   "source": [
    "spam = [2,4,6,8,10]"
   ]
  },
  {
   "cell_type": "code",
   "execution_count": 2,
   "id": "791f1b52",
   "metadata": {},
   "outputs": [],
   "source": [
    "spam[2]=\"hello\""
   ]
  },
  {
   "cell_type": "code",
   "execution_count": 3,
   "id": "82eff6df",
   "metadata": {},
   "outputs": [
    {
     "data": {
      "text/plain": [
       "[2, 4, 'hello', 8, 10]"
      ]
     },
     "execution_count": 3,
     "metadata": {},
     "output_type": "execute_result"
    }
   ],
   "source": [
    "spam"
   ]
  },
  {
   "cell_type": "markdown",
   "id": "ccc7cd93",
   "metadata": {},
   "source": [
    "Let&#39;s pretend the spam includes the list ['a', 'b, 'c', 'd'] for the next three queries.\n",
    "\n"
   ]
  },
  {
   "cell_type": "markdown",
   "id": "4bf3a22d",
   "metadata": {},
   "source": [
    "3.What is the value of spam[int(int(&#39;3&#39; * 2) / 11)]?\n",
    "\n",
    "Ans."
   ]
  },
  {
   "cell_type": "code",
   "execution_count": null,
   "id": "56ba7523",
   "metadata": {},
   "outputs": [],
   "source": [
    "spam = ['a','b','c','d']"
   ]
  },
  {
   "cell_type": "code",
   "execution_count": 5,
   "id": "9ec31de7",
   "metadata": {},
   "outputs": [
    {
     "data": {
      "text/plain": [
       "'d'"
      ]
     },
     "execution_count": 5,
     "metadata": {},
     "output_type": "execute_result"
    }
   ],
   "source": [
    "spam[int(int('3'*2)/11)]"
   ]
  },
  {
   "cell_type": "markdown",
   "id": "ff1c3bbe",
   "metadata": {},
   "source": [
    "above expression will come out to be 'spam[3]', hence will give element at the index '3' in the given list spam"
   ]
  },
  {
   "cell_type": "markdown",
   "id": "ba3a2376",
   "metadata": {},
   "source": [
    "4.What is the value of spam[-1]?\n",
    "\n",
    "Ans."
   ]
  },
  {
   "cell_type": "code",
   "execution_count": 6,
   "id": "32b75948",
   "metadata": {},
   "outputs": [
    {
     "data": {
      "text/plain": [
       "'d'"
      ]
     },
     "execution_count": 6,
     "metadata": {},
     "output_type": "execute_result"
    }
   ],
   "source": [
    "spam[-1]"
   ]
  },
  {
   "cell_type": "markdown",
   "id": "529fb843",
   "metadata": {},
   "source": [
    "5.What is the value of spam[:2]?\n",
    "\n",
    "Ans."
   ]
  },
  {
   "cell_type": "code",
   "execution_count": 7,
   "id": "6bd2cb33",
   "metadata": {},
   "outputs": [
    {
     "data": {
      "text/plain": [
       "['a', 'b']"
      ]
     },
     "execution_count": 7,
     "metadata": {},
     "output_type": "execute_result"
    }
   ],
   "source": [
    "spam[:2]"
   ]
  },
  {
   "cell_type": "markdown",
   "id": "f2a5eedb",
   "metadata": {},
   "source": [
    "here spam[:2] means travesing the list from index '0' to '1'"
   ]
  },
  {
   "cell_type": "markdown",
   "id": "b8562d58",
   "metadata": {},
   "source": [
    "Let&#39;s pretend bacon has the list [3.14,'cat', 11,'cat', True] for the next three questions."
   ]
  },
  {
   "cell_type": "markdown",
   "id": "91a82b99",
   "metadata": {},
   "source": [
    "6.What is the value of bacon.index('cat')?\n",
    "\n",
    "Ans."
   ]
  },
  {
   "cell_type": "code",
   "execution_count": 8,
   "id": "cf39ace0",
   "metadata": {},
   "outputs": [],
   "source": [
    "bacon =[3.14,'cat', 11,'cat', True]"
   ]
  },
  {
   "cell_type": "code",
   "execution_count": 9,
   "id": "2da815c1",
   "metadata": {},
   "outputs": [
    {
     "data": {
      "text/plain": [
       "1"
      ]
     },
     "execution_count": 9,
     "metadata": {},
     "output_type": "execute_result"
    }
   ],
   "source": [
    "bacon.index('cat')"
   ]
  },
  {
   "cell_type": "markdown",
   "id": "fbdd0f6c",
   "metadata": {},
   "source": [
    "if we have a repeated element, then the index of fisrt occuring of that element is considered"
   ]
  },
  {
   "cell_type": "markdown",
   "id": "78704b73",
   "metadata": {},
   "source": [
    "7.How does bacon.append(99) change the look of the list value in bacon?\n",
    "\n",
    "Ans."
   ]
  },
  {
   "cell_type": "code",
   "execution_count": 10,
   "id": "4df1f1eb",
   "metadata": {},
   "outputs": [],
   "source": [
    "bacon.append(99)"
   ]
  },
  {
   "cell_type": "code",
   "execution_count": 11,
   "id": "56475b33",
   "metadata": {},
   "outputs": [
    {
     "data": {
      "text/plain": [
       "[3.14, 'cat', 11, 'cat', True, 99]"
      ]
     },
     "execution_count": 11,
     "metadata": {},
     "output_type": "execute_result"
    }
   ],
   "source": [
    "bacon"
   ]
  },
  {
   "cell_type": "markdown",
   "id": "9a801216",
   "metadata": {},
   "source": [
    "'99' will be added to the list at the last "
   ]
  },
  {
   "cell_type": "markdown",
   "id": "416d0e11",
   "metadata": {},
   "source": [
    "8.How does bacon.remove(&#39;cat&#39;) change the look of the list in bacon?\n",
    "\n",
    "Ans."
   ]
  },
  {
   "cell_type": "code",
   "execution_count": 12,
   "id": "1fc941f5",
   "metadata": {},
   "outputs": [],
   "source": [
    "bacon.remove('cat')"
   ]
  },
  {
   "cell_type": "code",
   "execution_count": 13,
   "id": "b52ead37",
   "metadata": {},
   "outputs": [
    {
     "data": {
      "text/plain": [
       "[3.14, 11, 'cat', True, 99]"
      ]
     },
     "execution_count": 13,
     "metadata": {},
     "output_type": "execute_result"
    }
   ],
   "source": [
    "bacon"
   ]
  },
  {
   "cell_type": "markdown",
   "id": "22339fa0",
   "metadata": {},
   "source": [
    "here again first occuring of the repeated element will be removed"
   ]
  },
  {
   "cell_type": "markdown",
   "id": "2fe11ba7",
   "metadata": {},
   "source": [
    "9.What are the list concatenation and list replication operators?\n",
    "\n",
    "Ans. For list concatenation ' + ' is used whereas ' * ' is used for list replication\n",
    "\n",
    "For example:"
   ]
  },
  {
   "cell_type": "code",
   "execution_count": 14,
   "id": "69f2b54e",
   "metadata": {},
   "outputs": [],
   "source": [
    "l1=['a',1,7,'d']\n",
    "l2=['b',2,8,'c']\n"
   ]
  },
  {
   "cell_type": "code",
   "execution_count": 15,
   "id": "cc625a09",
   "metadata": {},
   "outputs": [
    {
     "data": {
      "text/plain": [
       "['a', 1, 7, 'd', 'b', 2, 8, 'c']"
      ]
     },
     "execution_count": 15,
     "metadata": {},
     "output_type": "execute_result"
    }
   ],
   "source": [
    "l1 + l2"
   ]
  },
  {
   "cell_type": "markdown",
   "id": "1c16f79a",
   "metadata": {},
   "source": [
    "here concatenation of l1 and l2 is done using ' + ' operator"
   ]
  },
  {
   "cell_type": "code",
   "execution_count": 16,
   "id": "e101f9ae",
   "metadata": {},
   "outputs": [
    {
     "data": {
      "text/plain": [
       "['a', 1, 7, 'd', 'a', 1, 7, 'd']"
      ]
     },
     "execution_count": 16,
     "metadata": {},
     "output_type": "execute_result"
    }
   ],
   "source": [
    "l1 *2"
   ]
  },
  {
   "cell_type": "markdown",
   "id": "55027508",
   "metadata": {},
   "source": [
    "And here replication od l1 is done using ' * ' operator"
   ]
  },
  {
   "cell_type": "markdown",
   "id": "aa8f64e2",
   "metadata": {},
   "source": [
    "10.What is difference between the list methods append() and insert()?\n",
    "\n",
    "Ans. Method 'append()' inserts the element at the last of the list, but method 'insert()' inserts the element at a particular \n",
    "\n",
    "index in the given list\n",
    "\n",
    "For example:"
   ]
  },
  {
   "cell_type": "code",
   "execution_count": 24,
   "id": "26da32d3",
   "metadata": {},
   "outputs": [
    {
     "data": {
      "text/plain": [
       "['a', 1, 77, 7, 'd', 'c']"
      ]
     },
     "execution_count": 24,
     "metadata": {},
     "output_type": "execute_result"
    }
   ],
   "source": [
    "l1"
   ]
  },
  {
   "cell_type": "code",
   "execution_count": 19,
   "id": "afaa93d5",
   "metadata": {},
   "outputs": [],
   "source": [
    "l1.append('c')"
   ]
  },
  {
   "cell_type": "code",
   "execution_count": 20,
   "id": "09f008ac",
   "metadata": {},
   "outputs": [
    {
     "data": {
      "text/plain": [
       "['a', 1, 7, 'd', 'c']"
      ]
     },
     "execution_count": 20,
     "metadata": {},
     "output_type": "execute_result"
    }
   ],
   "source": [
    "l1"
   ]
  },
  {
   "cell_type": "code",
   "execution_count": 21,
   "id": "93f4ebb9",
   "metadata": {},
   "outputs": [],
   "source": [
    "l1.insert(2,77)"
   ]
  },
  {
   "cell_type": "code",
   "execution_count": 23,
   "id": "bc094c42",
   "metadata": {},
   "outputs": [
    {
     "data": {
      "text/plain": [
       "['a', 1, 77, 7, 'd', 'c']"
      ]
     },
     "execution_count": 23,
     "metadata": {},
     "output_type": "execute_result"
    }
   ],
   "source": [
    "l1"
   ]
  },
  {
   "cell_type": "markdown",
   "id": "6215beeb",
   "metadata": {},
   "source": [
    "11.What are the two methods for removing items from a list?\n",
    "\n",
    "Ans. remove() and pop()"
   ]
  },
  {
   "cell_type": "markdown",
   "id": "691b8b7a",
   "metadata": {},
   "source": [
    "12.Describe how list values and string values are identical.\n",
    "\n",
    "Ans. As list values and string values are in a sequence, and can be accessed using indexing."
   ]
  },
  {
   "cell_type": "markdown",
   "id": "d6592a86",
   "metadata": {},
   "source": [
    "13.What's the difference between tuples and lists?\n",
    "\n",
    "Ans. Tuples are immutable and Lists are mutable"
   ]
  },
  {
   "cell_type": "markdown",
   "id": "a64cea60",
   "metadata": {},
   "source": [
    "14.How do you type a tuple value that only contains the integer 42?\n",
    "\n",
    "Ans. tuple = (42)"
   ]
  },
  {
   "cell_type": "markdown",
   "id": "d15340ff",
   "metadata": {},
   "source": [
    "15.How do you get a list value's tuple form? How do you get a tuple value's list form?\n",
    "\n",
    "Ans. Using keywords 'tuple' and 'list' respectively\n",
    "\n",
    "For example:"
   ]
  },
  {
   "cell_type": "code",
   "execution_count": 26,
   "id": "116f7d46",
   "metadata": {},
   "outputs": [],
   "source": [
    "l = [1,2 ,3, 4]"
   ]
  },
  {
   "cell_type": "code",
   "execution_count": 27,
   "id": "4613cd6e",
   "metadata": {},
   "outputs": [
    {
     "data": {
      "text/plain": [
       "(1, 2, 3, 4)"
      ]
     },
     "execution_count": 27,
     "metadata": {},
     "output_type": "execute_result"
    }
   ],
   "source": [
    "tuple(l)"
   ]
  },
  {
   "cell_type": "code",
   "execution_count": 28,
   "id": "0324c1ca",
   "metadata": {},
   "outputs": [],
   "source": [
    "t = (5,6,7,8)"
   ]
  },
  {
   "cell_type": "code",
   "execution_count": 29,
   "id": "d113ba75",
   "metadata": {},
   "outputs": [
    {
     "data": {
      "text/plain": [
       "[5, 6, 7, 8]"
      ]
     },
     "execution_count": 29,
     "metadata": {},
     "output_type": "execute_result"
    }
   ],
   "source": [
    "list(t)"
   ]
  },
  {
   "cell_type": "markdown",
   "id": "b84de422",
   "metadata": {},
   "source": [
    "16.Variables that \"contain\" list values are not necessarily lists themselves. Instead, what do they\n",
    "\n",
    "contain?\n",
    "\n",
    "Ans.They can integer, string, character, boolean, tuple, set, etc."
   ]
  },
  {
   "cell_type": "markdown",
   "id": "cc1717f5",
   "metadata": {},
   "source": [
    "17.How do you distinguish between copy.copy() and copy.deepcopy()?\n",
    "\n",
    "Ans. copy.copy() will create reference to the original variable/object 'copy', but copy.deepcopy() will create a new \n",
    "\n",
    "object/variable."
   ]
  }
 ],
 "metadata": {
  "kernelspec": {
   "display_name": "Python 3 (ipykernel)",
   "language": "python",
   "name": "python3"
  },
  "language_info": {
   "codemirror_mode": {
    "name": "ipython",
    "version": 3
   },
   "file_extension": ".py",
   "mimetype": "text/x-python",
   "name": "python",
   "nbconvert_exporter": "python",
   "pygments_lexer": "ipython3",
   "version": "3.9.7"
  }
 },
 "nbformat": 4,
 "nbformat_minor": 5
}
