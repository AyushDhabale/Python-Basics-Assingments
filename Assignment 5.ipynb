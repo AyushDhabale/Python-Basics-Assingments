{
 "cells": [
  {
   "cell_type": "markdown",
   "id": "88cd4e6f",
   "metadata": {},
   "source": [
    "1.What does an empty dictionary&#39;s code look like?\n",
    "\n",
    "Ans. dict = {}"
   ]
  },
  {
   "cell_type": "code",
   "execution_count": 1,
   "id": "d85cf475",
   "metadata": {},
   "outputs": [],
   "source": [
    "d={}"
   ]
  },
  {
   "cell_type": "markdown",
   "id": "d4fb7204",
   "metadata": {},
   "source": [
    "2.What is the value of a dictionary value with the key &#39;foo&#39; and the value 42?\n",
    "\n",
    "Ans. Value will be '42'"
   ]
  },
  {
   "cell_type": "code",
   "execution_count": 2,
   "id": "1703fb56",
   "metadata": {},
   "outputs": [],
   "source": [
    "d = {'foo':42}"
   ]
  },
  {
   "cell_type": "code",
   "execution_count": 3,
   "id": "2de27e25",
   "metadata": {},
   "outputs": [
    {
     "data": {
      "text/plain": [
       "42"
      ]
     },
     "execution_count": 3,
     "metadata": {},
     "output_type": "execute_result"
    }
   ],
   "source": [
    "d['foo']"
   ]
  },
  {
   "cell_type": "markdown",
   "id": "5fdefef7",
   "metadata": {},
   "source": [
    "3.What is the most significant distinction between a dictionary and a list?\n",
    "\n",
    "Ans: List have indexes for it's elements but dictionary have keys for it's elements"
   ]
  },
  {
   "cell_type": "markdown",
   "id": "6601a263",
   "metadata": {},
   "source": [
    "4.What happens if you try to access spam['foo'] if spam is {'bar': 100}?\n",
    "\n",
    "Ans. will give an error, keyerror!"
   ]
  },
  {
   "cell_type": "code",
   "execution_count": 4,
   "id": "92e80e9f",
   "metadata": {},
   "outputs": [],
   "source": [
    "spam = {'bar':100}"
   ]
  },
  {
   "cell_type": "code",
   "execution_count": 5,
   "id": "8f5abf6e",
   "metadata": {},
   "outputs": [
    {
     "ename": "KeyError",
     "evalue": "'foo'",
     "output_type": "error",
     "traceback": [
      "\u001b[1;31m---------------------------------------------------------------------------\u001b[0m",
      "\u001b[1;31mKeyError\u001b[0m                                  Traceback (most recent call last)",
      "\u001b[1;32m~\\AppData\\Local\\Temp/ipykernel_3268/3999281786.py\u001b[0m in \u001b[0;36m<module>\u001b[1;34m\u001b[0m\n\u001b[1;32m----> 1\u001b[1;33m \u001b[0mspam\u001b[0m\u001b[1;33m[\u001b[0m\u001b[1;34m'foo'\u001b[0m\u001b[1;33m]\u001b[0m\u001b[1;33m\u001b[0m\u001b[1;33m\u001b[0m\u001b[0m\n\u001b[0m",
      "\u001b[1;31mKeyError\u001b[0m: 'foo'"
     ]
    }
   ],
   "source": [
    "spam['foo']"
   ]
  },
  {
   "cell_type": "markdown",
   "id": "258a131e",
   "metadata": {},
   "source": [
    "5.If a dictionary is stored in spam, what is the difference between the expressions 'cat' in spam and\n",
    "\n",
    "'cat' in spam.keys()?\n",
    "\n",
    "Ans. 'cat' in spam is a value to a key associated, but 'cat' in spam.keys() is a key to the key pair of the given dictionary"
   ]
  },
  {
   "cell_type": "markdown",
   "id": "5b1eb579",
   "metadata": {},
   "source": [
    "6.If a dictionary is stored in spam, what is the difference between the expressions 'cat' in spam and\n",
    "\n",
    "'cat' in spam.values()?\n",
    "\n",
    "Ans. 'cat' in spam is a key and 'cat' in spam.values() is a vaule to a key"
   ]
  },
  {
   "cell_type": "markdown",
   "id": "9ca2ccb2",
   "metadata": {},
   "source": [
    "7.What is a shortcut for the following code?\n",
    "\n",
    "if 'color' not in spam:\n",
    "    \n",
    "    spam['color'] = 'black'\n",
    "    \n",
    "Ans. can be done using a method named 'setdefault'\n",
    "\n",
    "spam.setdefault('color','black')"
   ]
  },
  {
   "cell_type": "markdown",
   "id": "1682baed",
   "metadata": {},
   "source": [
    "8.How do you \"pretty print\" dictionary values using which module and function?\n",
    "\n",
    "Ans. module named 'pprint' and method named 'pprint' is used"
   ]
  }
 ],
 "metadata": {
  "kernelspec": {
   "display_name": "Python 3 (ipykernel)",
   "language": "python",
   "name": "python3"
  },
  "language_info": {
   "codemirror_mode": {
    "name": "ipython",
    "version": 3
   },
   "file_extension": ".py",
   "mimetype": "text/x-python",
   "name": "python",
   "nbconvert_exporter": "python",
   "pygments_lexer": "ipython3",
   "version": "3.9.7"
  }
 },
 "nbformat": 4,
 "nbformat_minor": 5
}
