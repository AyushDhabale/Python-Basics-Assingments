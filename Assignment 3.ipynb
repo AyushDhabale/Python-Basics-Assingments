{
 "cells": [
  {
   "cell_type": "markdown",
   "id": "49a31c4e",
   "metadata": {},
   "source": [
    "1.Why are functions advantageous to have in your programs?"
   ]
  },
  {
   "cell_type": "markdown",
   "id": "6e8b9918",
   "metadata": {},
   "source": [
    "Ans.It helps to reuse the code,and reduce the duplication of the code. Once we have written a code to some sort of function then \n",
    "\n",
    "we didn't have to rewrite it again and again to execute the each test case, can be used for each test cases one by one."
   ]
  },
  {
   "cell_type": "markdown",
   "id": "a012ae8a",
   "metadata": {},
   "source": [
    "2.When does the code in a function run: when it's specified or when it's called?"
   ]
  },
  {
   "cell_type": "markdown",
   "id": "4cc62676",
   "metadata": {},
   "source": [
    "Ans. Function runs only when it is called.\n",
    "\n",
    "For example:"
   ]
  },
  {
   "cell_type": "code",
   "execution_count": 1,
   "id": "0efc61b2",
   "metadata": {},
   "outputs": [],
   "source": [
    "def ADD(a,b):\n",
    "    return a +b"
   ]
  },
  {
   "cell_type": "code",
   "execution_count": 2,
   "id": "cb4a67ae",
   "metadata": {},
   "outputs": [
    {
     "data": {
      "text/plain": [
       "6"
      ]
     },
     "execution_count": 2,
     "metadata": {},
     "output_type": "execute_result"
    }
   ],
   "source": [
    "ADD(2,4)"
   ]
  },
  {
   "cell_type": "markdown",
   "id": "9bd44a9c",
   "metadata": {},
   "source": [
    "here function was not executed when it was defined or specified , it was executed when it was called."
   ]
  },
  {
   "cell_type": "markdown",
   "id": "a9938154",
   "metadata": {},
   "source": [
    "3.What statement creates a function?"
   ]
  },
  {
   "cell_type": "markdown",
   "id": "d05f67d1",
   "metadata": {},
   "source": [
    "Ans. The statement consist of a 'def' keyword , followed by funtion name(identifier) and than parentheses followed by colon.\n",
    "\n",
    "For example:"
   ]
  },
  {
   "cell_type": "code",
   "execution_count": 3,
   "id": "a3c460cf",
   "metadata": {},
   "outputs": [],
   "source": [
    "def Function():\n",
    "    return 0"
   ]
  },
  {
   "cell_type": "markdown",
   "id": "5a9a4376",
   "metadata": {},
   "source": [
    "here firstly 'def' keyword is used , 'Funtion' is a identifier, followed by parentheses and colon."
   ]
  },
  {
   "cell_type": "markdown",
   "id": "4c678bc6",
   "metadata": {},
   "source": [
    "4.What is the difference between a function and a function call?"
   ]
  },
  {
   "cell_type": "markdown",
   "id": "1ca916a8",
   "metadata": {},
   "source": [
    "Ans. Function is a lines of code written to perform a specific task, whereas funtion call is a call to the defined funtion, when \n",
    "\n",
    "the function call is made the control of the program is transfered to that paticular funtion.\n",
    "\n",
    "For example:"
   ]
  },
  {
   "cell_type": "code",
   "execution_count": 5,
   "id": "fb61a5ff",
   "metadata": {},
   "outputs": [],
   "source": [
    "def Print():\n",
    "    print(\"This is my print function\")\n",
    "    "
   ]
  },
  {
   "cell_type": "markdown",
   "id": "b6c7fb2f",
   "metadata": {},
   "source": [
    "this is a funtion"
   ]
  },
  {
   "cell_type": "code",
   "execution_count": 6,
   "id": "41aa49f3",
   "metadata": {},
   "outputs": [
    {
     "name": "stdout",
     "output_type": "stream",
     "text": [
      "This is my print function\n"
     ]
    }
   ],
   "source": [
    "Print()"
   ]
  },
  {
   "cell_type": "markdown",
   "id": "882c4431",
   "metadata": {},
   "source": [
    "this is the function call to the above defined function!!"
   ]
  },
  {
   "cell_type": "markdown",
   "id": "d8e3388a",
   "metadata": {},
   "source": [
    "5.How many global scopes are there in a Python program? How many local scopes?"
   ]
  },
  {
   "cell_type": "markdown",
   "id": "1b57ae36",
   "metadata": {},
   "source": [
    "There is one global and local scope."
   ]
  },
  {
   "cell_type": "markdown",
   "id": "5b1ffda7",
   "metadata": {},
   "source": [
    "6.What happens to variables in a local scope when the function call returns?"
   ]
  },
  {
   "cell_type": "markdown",
   "id": "7e154157",
   "metadata": {},
   "source": [
    "Ans. Variables in local scope are destroyed once function have compelted it's execution."
   ]
  },
  {
   "cell_type": "markdown",
   "id": "b090aa36",
   "metadata": {},
   "source": [
    "7.What is the concept of a return value? Is it possible to have a return value in an expression?"
   ]
  },
  {
   "cell_type": "markdown",
   "id": "9a6c1293",
   "metadata": {},
   "source": [
    "Ans. A return value is the value that a function call gives when a funtion is executed.\n",
    "\n",
    " A return value can be used as part of an expression."
   ]
  },
  {
   "cell_type": "markdown",
   "id": "96c25518",
   "metadata": {},
   "source": [
    "8.If a function does not have a return statement, what is the return value of a call to that function?"
   ]
  },
  {
   "cell_type": "markdown",
   "id": "debe42ed",
   "metadata": {},
   "source": [
    "Ans.r̥eturn value is none"
   ]
  },
  {
   "cell_type": "markdown",
   "id": "6b507568",
   "metadata": {},
   "source": [
    "9.How do you make a function variable refer to the global variable?"
   ]
  },
  {
   "cell_type": "markdown",
   "id": "3203cde6",
   "metadata": {},
   "source": [
    "Ans.using global keyword"
   ]
  },
  {
   "cell_type": "markdown",
   "id": "b62233e0",
   "metadata": {},
   "source": [
    "10.What is the data type of None?"
   ]
  },
  {
   "cell_type": "markdown",
   "id": "61ce0daa",
   "metadata": {},
   "source": [
    "Ans. Nonetype"
   ]
  },
  {
   "cell_type": "markdown",
   "id": "b8ac6cb4",
   "metadata": {},
   "source": [
    "11.What does the sentence import areallyourpetsnamederic do?"
   ]
  },
  {
   "cell_type": "markdown",
   "id": "630efdb6",
   "metadata": {},
   "source": [
    "Ans. will import module named 'areallyourpetsnamederic'."
   ]
  },
  {
   "cell_type": "markdown",
   "id": "0f082c84",
   "metadata": {},
   "source": [
    "12.If you had a bacon() feature in a spam module, what would you call it after importing spam?"
   ]
  },
  {
   "cell_type": "markdown",
   "id": "cde3e222",
   "metadata": {},
   "source": [
    "Ans. method/feature bacon(), can be called using the syntax, \n",
    "\n",
    "spam.bacon()"
   ]
  },
  {
   "cell_type": "markdown",
   "id": "0d7869ca",
   "metadata": {},
   "source": [
    "13.What can you do to save a programme from crashing if it encounters an error?"
   ]
  },
  {
   "cell_type": "markdown",
   "id": "142c5d60",
   "metadata": {},
   "source": [
    "Ans. we can use try and except block to encounter the program crash"
   ]
  },
  {
   "cell_type": "markdown",
   "id": "74e7502c",
   "metadata": {},
   "source": [
    "14.What is the purpose of the try clause? What is the purpose of the except clause?"
   ]
  },
  {
   "cell_type": "markdown",
   "id": "b91322c8",
   "metadata": {},
   "source": [
    "Ans. In a program when we are not sure about the code, that it will execute without errors or not we use try clause, now if some  \n",
    "\n",
    "sort of error takes place then the except clause come into picture. If there is an error in executing try block ,then code in \n",
    "\n",
    "except block is executed.\n",
    "\n",
    "For example:"
   ]
  },
  {
   "cell_type": "code",
   "execution_count": 7,
   "id": "8aba07a3",
   "metadata": {},
   "outputs": [],
   "source": [
    "def Divide(a,b):\n",
    "    try:\n",
    "        return a/b\n",
    "    \n",
    "    except Exception as e:\n",
    "        return e"
   ]
  },
  {
   "cell_type": "code",
   "execution_count": 8,
   "id": "44a74602",
   "metadata": {},
   "outputs": [
    {
     "data": {
      "text/plain": [
       "0.3333333333333333"
      ]
     },
     "execution_count": 8,
     "metadata": {},
     "output_type": "execute_result"
    }
   ],
   "source": [
    "Divide(2,6)"
   ]
  },
  {
   "cell_type": "code",
   "execution_count": 9,
   "id": "392df7a4",
   "metadata": {},
   "outputs": [
    {
     "data": {
      "text/plain": [
       "ZeroDivisionError('division by zero')"
      ]
     },
     "execution_count": 9,
     "metadata": {},
     "output_type": "execute_result"
    }
   ],
   "source": [
    "Divide(4,0)"
   ]
  },
  {
   "cell_type": "markdown",
   "id": "bd51d388",
   "metadata": {},
   "source": [
    "In the above exmaple we can see that when division is possible than the function is returning the result, but when it is not \n",
    "\n",
    "possible the control goes to except block, and the block will return the error caused"
   ]
  }
 ],
 "metadata": {
  "kernelspec": {
   "display_name": "Python 3 (ipykernel)",
   "language": "python",
   "name": "python3"
  },
  "language_info": {
   "codemirror_mode": {
    "name": "ipython",
    "version": 3
   },
   "file_extension": ".py",
   "mimetype": "text/x-python",
   "name": "python",
   "nbconvert_exporter": "python",
   "pygments_lexer": "ipython3",
   "version": "3.9.7"
  }
 },
 "nbformat": 4,
 "nbformat_minor": 5
}
