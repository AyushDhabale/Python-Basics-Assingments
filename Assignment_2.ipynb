{
 "cells": [
  {
   "cell_type": "markdown",
   "id": "c53841a3",
   "metadata": {},
   "source": [
    "1.What are the two values of the Boolean data type? How do you write them?\n",
    "\n",
    "Ans. True and False, here True is referred as 1 and False as 0.\n",
    "\n"
   ]
  },
  {
   "cell_type": "markdown",
   "id": "ded19b90",
   "metadata": {},
   "source": [
    "\n",
    "\n",
    "2.What are the three different types of Boolean operators?\n",
    "\n",
    "Ans. OR, AND, NOT"
   ]
  },
  {
   "cell_type": "markdown",
   "id": "46f0de76",
   "metadata": {},
   "source": [
    "3.Make a list of each Boolean operator&#39;s truth tables (i.e. every possible combination of Boolean\n",
    "values for the operator and what it evaluate ).\n",
    "\n",
    "Ans. For AND operator\n",
    "     \n",
    "     P  Q  Output\n",
    "     1  0    0\n",
    "     0  1    0\n",
    "     0  0    0\n",
    "     1  1    1\n",
    "     \n",
    "     \n",
    "For OR operator\n",
    "     \n",
    "     P  Q  Output\n",
    "     1  0    1\n",
    "     0  1    1\n",
    "     0  0    0\n",
    "     1  1    1\n",
    "     \n",
    "For NOT operator\n",
    "\n",
    "            Output\n",
    "     P  1     0\n",
    "     P  0     1\n",
    "     \n",
    "      "
   ]
  },
  {
   "cell_type": "markdown",
   "id": "53a0bfff",
   "metadata": {},
   "source": [
    "4.What are the values of the following expressions?\n",
    "\n",
    "(5 > 4) and (3 == 5)\n",
    " \n",
    "not (5 > 4)\n",
    " \n",
    "(5> 4) or (3 == 5)\n",
    "\n",
    "not ((5 > 4) or (3 == 5))\n",
    "\n",
    "(True and True) and (True == False)\n",
    "\n",
    "(not False) or (not True)"
   ]
  },
  {
   "cell_type": "code",
   "execution_count": 1,
   "id": "7d2de2a0",
   "metadata": {},
   "outputs": [
    {
     "data": {
      "text/plain": [
       "False"
      ]
     },
     "execution_count": 1,
     "metadata": {},
     "output_type": "execute_result"
    }
   ],
   "source": [
    "(5 > 4) and (3 == 5)"
   ]
  },
  {
   "cell_type": "code",
   "execution_count": 2,
   "id": "bd91d181",
   "metadata": {},
   "outputs": [
    {
     "data": {
      "text/plain": [
       "False"
      ]
     },
     "execution_count": 2,
     "metadata": {},
     "output_type": "execute_result"
    }
   ],
   "source": [
    "not (5 > 4)"
   ]
  },
  {
   "cell_type": "code",
   "execution_count": 3,
   "id": "574e1e60",
   "metadata": {},
   "outputs": [
    {
     "data": {
      "text/plain": [
       "True"
      ]
     },
     "execution_count": 3,
     "metadata": {},
     "output_type": "execute_result"
    }
   ],
   "source": [
    "(5> 4) or (3 == 5)"
   ]
  },
  {
   "cell_type": "code",
   "execution_count": 5,
   "id": "6fe57918",
   "metadata": {},
   "outputs": [
    {
     "data": {
      "text/plain": [
       "False"
      ]
     },
     "execution_count": 5,
     "metadata": {},
     "output_type": "execute_result"
    }
   ],
   "source": [
    "(True and True) and (True == False)"
   ]
  },
  {
   "cell_type": "code",
   "execution_count": 6,
   "id": "b1831eb8",
   "metadata": {},
   "outputs": [
    {
     "data": {
      "text/plain": [
       "True"
      ]
     },
     "execution_count": 6,
     "metadata": {},
     "output_type": "execute_result"
    }
   ],
   "source": [
    "(not False) or (not True)"
   ]
  },
  {
   "cell_type": "markdown",
   "id": "58ffe4b5",
   "metadata": {},
   "source": [
    "5.What are the six comparison operators?\n",
    "\n",
    "Ans. \n",
    "     less than (<)\n",
    "     \n",
    "     greater than (>)\n",
    "     \n",
    "     equal to (==)\n",
    "     \n",
    "     less than or equal to (<=)\n",
    "     \n",
    "     greater than or equal to (>=)\n",
    "     \n",
    "     not equal to (!=)"
   ]
  },
  {
   "cell_type": "markdown",
   "id": "32bccb45",
   "metadata": {},
   "source": [
    "6.How do you tell the difference between the equal to and assignment operators?Describe a\n",
    "condition and when you would use one.\n",
    "\n",
    "Ans. Equal operator is used to compare and Assignment operator is used to assign values to a variable.Equal operator is given by \n",
    "\n",
    "\"==\" and assignment operator is given by \"=\".\n",
    "\n",
    "Ex. 1. a = 2\n",
    "\n",
    "2. c == d\n",
    "\n",
    "here in statemnet 1 assignment operator is used\n",
    "\n",
    "and in statement 2 equal operator is used \n"
   ]
  },
  {
   "cell_type": "markdown",
   "id": "78cb2264",
   "metadata": {},
   "source": [
    "7.Identify the three blocks in this code:\n",
    "\n",
    "spam = 0\n",
    "if spam == 10:\n",
    "print(&#39;eggs&#39;)\n",
    "\n",
    "if spam &gt; 5:\n",
    "print('bacon')\n",
    "\n",
    "else:\n",
    "print('ham')\n",
    "print('spam')\n",
    "print('spam')\n",
    "\n",
    "Ans. Block 1\n",
    "\n",
    "if spam == 10:\n",
    "    print('eggs')\n",
    "    \n",
    "Block 2\n",
    "\n",
    "if spam &gt; 5:\n",
    "    print('bacon')\n",
    "    \n",
    "Block 3\n",
    "\n",
    "else:\n",
    "    print('ham')\n",
    "    print('spam')\n",
    "    print('spam')\n"
   ]
  },
  {
   "cell_type": "markdown",
   "id": "ca24056c",
   "metadata": {},
   "source": [
    "8.Write code that prints Hello if 1 is stored in spam, prints Howdy if 2 is stored in spam, and prints\n",
    "\n",
    "Greetings! if anything else is stored in spam."
   ]
  },
  {
   "cell_type": "code",
   "execution_count": 12,
   "id": "73cd3bc7",
   "metadata": {},
   "outputs": [
    {
     "name": "stdout",
     "output_type": "stream",
     "text": [
      "2\n",
      "Howdy\n"
     ]
    }
   ],
   "source": [
    "def Greet():\n",
    "    spam = input()\n",
    "    if spam == '1':\n",
    "        print(\"Hello\")\n",
    "        \n",
    "    elif spam == '2':\n",
    "        print(\"Howdy\")\n",
    "        \n",
    "    else:\n",
    "        print(\"Greetings!\")\n",
    "        \n",
    "Greet()"
   ]
  },
  {
   "cell_type": "markdown",
   "id": "76ac22c7",
   "metadata": {},
   "source": [
    "9.If your programme is stuck in an endless loop, what keys you’ll press?\n",
    "\n",
    "Ans: ctrl + C"
   ]
  },
  {
   "cell_type": "markdown",
   "id": "f79f352d",
   "metadata": {},
   "source": [
    "10.How can you tell the difference between break and continue?\n",
    "\n",
    "Ans: break is used to terminate the entire loop, whereas continue is used to exit from the current iteration\n",
    "\n",
    "Ex:\n"
   ]
  },
  {
   "cell_type": "code",
   "execution_count": 16,
   "id": "934599fb",
   "metadata": {},
   "outputs": [
    {
     "name": "stdout",
     "output_type": "stream",
     "text": [
      "Ayush 0\n",
      "Ayush 1\n",
      "skipping the current iteration!! \n",
      "Ayush 3\n",
      "Ayush 4\n",
      "Ayush 5\n",
      "Ayush 6\n",
      "Exiting from the loop!!\n"
     ]
    }
   ],
   "source": [
    "for i in range (0,10):\n",
    "   \n",
    "    if i == 7:\n",
    "        print(\"Exiting from the loop!!\")\n",
    "        break\n",
    "    elif i == 2:\n",
    "        print(\"skipping the current iteration!! \")\n",
    "        continue\n",
    "        \n",
    "    \n",
    "    print(\"Ayush\",i)\n",
    "    "
   ]
  },
  {
   "cell_type": "markdown",
   "id": "841b0c21",
   "metadata": {},
   "source": [
    "here in the above example,for loop is printing \"ayush\" when the value of i is not 3 and when the vaule of 'i' is 3 ,the current  \n",
    "\n",
    "iteration is skipped and then again for loop starts printing \"Ayush\" till the value of i is not 7, as soon as the value is 7 the \n",
    "\n",
    "loop will be terminated, even it is supposed to run upto i == 9 "
   ]
  },
  {
   "cell_type": "markdown",
   "id": "c4118fe8",
   "metadata": {},
   "source": [
    "11.In a for loop, what is the difference between range(10), range(0, 10), and range(0, 10, 1)?\n",
    "\n",
    "Ans. There is no difference between range(10), range(0, 10), and range(0, 10, 1), they all are same statements.\n",
    "\n",
    "In range(10), the lower limit is '0' by default similarly step size/jump case/increament is '+1' by default .\n",
    "\n",
    "In range(0,10), step size/jump case/increament is '+1' by default."
   ]
  },
  {
   "cell_type": "markdown",
   "id": "9835b94e",
   "metadata": {},
   "source": [
    "12.Write a short program that prints the numbers 1 to 10 using a for loop. Then write an equivalent\n",
    "\n",
    "program that prints the numbers 1 to 10 using a while loop.\n"
   ]
  },
  {
   "cell_type": "code",
   "execution_count": 17,
   "id": "1435f7e5",
   "metadata": {},
   "outputs": [
    {
     "name": "stdout",
     "output_type": "stream",
     "text": [
      "1\n",
      "2\n",
      "3\n",
      "4\n",
      "5\n",
      "6\n",
      "7\n",
      "8\n",
      "9\n",
      "10\n"
     ]
    }
   ],
   "source": [
    "for i in range(1,11):\n",
    "    print(i)"
   ]
  },
  {
   "cell_type": "code",
   "execution_count": 19,
   "id": "6ccfd4e4",
   "metadata": {},
   "outputs": [
    {
     "name": "stdout",
     "output_type": "stream",
     "text": [
      "1\n",
      "2\n",
      "3\n",
      "4\n",
      "5\n",
      "6\n",
      "7\n",
      "8\n",
      "9\n",
      "10\n"
     ]
    }
   ],
   "source": [
    "i = 1\n",
    "while i<11:\n",
    "    print(i)\n",
    "    i+=1"
   ]
  },
  {
   "cell_type": "markdown",
   "id": "cf0bb7f2",
   "metadata": {},
   "source": [
    "13.If you had a function named bacon() inside a module named spam, how would you call it after\n",
    "importing spam?\n",
    "\n",
    "Ans. spam.bacon()"
   ]
  },
  {
   "cell_type": "code",
   "execution_count": null,
   "id": "90542bd0",
   "metadata": {},
   "outputs": [],
   "source": []
  }
 ],
 "metadata": {
  "kernelspec": {
   "display_name": "Python 3 (ipykernel)",
   "language": "python",
   "name": "python3"
  },
  "language_info": {
   "codemirror_mode": {
    "name": "ipython",
    "version": 3
   },
   "file_extension": ".py",
   "mimetype": "text/x-python",
   "name": "python",
   "nbconvert_exporter": "python",
   "pygments_lexer": "ipython3",
   "version": "3.9.7"
  }
 },
 "nbformat": 4,
 "nbformat_minor": 5
}
